{
 "cells": [
  {
   "cell_type": "markdown",
   "id": "9a248277",
   "metadata": {},
   "source": [
    "# Compare Model vs API Predictions\n",
    "This notebook loads the trained model directly and compares its prediction with the FastAPI endpoint using the exact same input payload."
   ]
  },
  {
   "cell_type": "code",
   "execution_count": 11,
   "id": "ea1e8e6d",
   "metadata": {},
   "outputs": [],
   "source": [
    "# Imports (with fallback install for requests)\n",
    "import sys, subprocess\n",
    "def ensure(pkg):\n",
    "    try:\n",
    "        __import__(pkg)\n",
    "    except ImportError:\n",
    "        print(f'Installing {pkg}...')\n",
    "        subprocess.check_call([sys.executable, '-m', 'pip', 'install', pkg])\n",
    "ensure('requests')\n",
    "import requests\n",
    "import joblib\n",
    "import pandas as pd\n",
    "import numpy as np\n",
    "import json\n",
    "import os"
   ]
  },
  {
   "cell_type": "code",
   "execution_count": 12,
   "id": "90910b15",
   "metadata": {},
   "outputs": [
    {
     "name": "stdout",
     "output_type": "stream",
     "text": [
      "{'loaded_model_path': 'heart_rf_pipeline.pkl', 'pipeline_steps': ['preprocessor', 'classifier']}\n",
      "{'expected_columns': ['gender', 'age', 'currentSmoker', 'cigsPerDay', 'BPMeds', 'prevalentStroke', 'prevalentHyp', 'diabetes', 'totChol', 'sysBP', 'BMI', 'heartRate', 'glucose', 'pulsePressure']}\n"
     ]
    }
   ],
   "source": [
    "# Configuration: adjust API base URL if needed\n",
    "API_BASE = 'http://127.0.0.1:8000'  # or 'http://localhost:8000'\n",
    "API_PREDICT = f'{API_BASE}/api/v1/predict'\n",
    "\n",
    "# Try to load the SAME model file the API uses to avoid version drift\n",
    "CANDIDATE_MODEL_PATHS = [\n",
    "    os.path.join('backend', 'heart_rf_pipeline.pkl'),\n",
    "    os.path.join('model_artifacts', 'heart_rf_pipeline.pkl'),\n",
    "    os.path.join('notebook', 'heart_rf_pipeline.pkl'),\n",
    "    'heart_rf_pipeline.pkl',\n",
    " ]\n",
    "model_path = None\n",
    "model = None\n",
    "for p in CANDIDATE_MODEL_PATHS:\n",
    "    if os.path.exists(p):\n",
    "        try:\n",
    "            model = joblib.load(p)\n",
    "            model_path = p\n",
    "            break\n",
    "        except Exception as e:\n",
    "            print(f'Failed to load {p}: {e}')\n",
    "if model is None:\n",
    "    raise FileNotFoundError('Could not find a loadable model in expected locations.')\n",
    "print({'loaded_model_path': model_path, 'pipeline_steps': list(model.named_steps.keys())})\n",
    "# Columns the preprocessor expects BEFORE transformation\n",
    "expected_cols = model.named_steps['preprocessor'].feature_names_in_.tolist()\n",
    "print({'expected_columns': expected_cols})"
   ]
  },
  {
   "cell_type": "code",
   "execution_count": 13,
   "id": "2e4c5da8",
   "metadata": {},
   "outputs": [
    {
     "name": "stdout",
     "output_type": "stream",
     "text": [
      "{'notebook_threshold': 0.3}\n"
     ]
    }
   ],
   "source": [
    "# Decision threshold for notebook classifications (match website)\n",
    "THRESH = 0.30  # Keep in sync with website/API default\n",
    "print({'notebook_threshold': THRESH})"
   ]
  },
  {
   "cell_type": "code",
   "execution_count": 14,
   "id": "4f897aec",
   "metadata": {},
   "outputs": [],
   "source": [
    "# Example input (adjust to match your test case)\n",
    "sample = {\n",
    "    'gender': 'Male',            # 'Male'/'Female'\n",
    "    'age': 58,                   # numeric\n",
    "    'currentSmoker': 'Yes',      # 'Yes'/'No'\n",
    "    'cigsPerDay': 12,\n",
    "    'BPMeds': 'No',\n",
    "    'prevalentStroke': 'No',\n",
    "    'prevalentHyp': 'Yes',\n",
    "    'diabetes': 'No',\n",
    "    'totChol': 240,\n",
    "    'sysBP': 138,\n",
    "    'BMI': 28.5,\n",
    "    'heartRate': 78,\n",
    "    'glucose': 95,\n",
    "    'pulsePressure': 50,         # sysBP - diaBP (you kept this feature)\n",
    "}"
   ]
  },
  {
   "cell_type": "code",
   "execution_count": 15,
   "id": "3c837d67",
   "metadata": {},
   "outputs": [
    {
     "name": "stdout",
     "output_type": "stream",
     "text": [
      "{'mode': 'direct_model', 'prediction': 0, 'prediction_at_thresh': 0, 'probability': 0.14}\n"
     ]
    }
   ],
   "source": [
    "# Direct model inference using the training-time preprocessor\n",
    "df_in = pd.DataFrame([sample]).copy()\n",
    "for col in expected_cols:\n",
    "    if col not in df_in.columns:\n",
    "        df_in[col] = np.nan\n",
    "df_in = df_in[expected_cols]\n",
    "pred_dir = int(model.predict(df_in)[0])\n",
    "proba_dir = float(model.predict_proba(df_in)[0, 1])\n",
    "# Apply website threshold for classification parity\n",
    "pred_dir_thr = int(proba_dir >= THRESH)\n",
    "print({'mode': 'direct_model', 'prediction': pred_dir, 'prediction_at_thresh': pred_dir_thr, 'probability': proba_dir})"
   ]
  },
  {
   "cell_type": "code",
   "execution_count": 16,
   "id": "e8a12a29",
   "metadata": {},
   "outputs": [
    {
     "name": "stdout",
     "output_type": "stream",
     "text": [
      "{'mode': 'simulated_api_conversion', 'prediction': 0, 'prediction_at_thresh': 0, 'probability': 0.1}\n"
     ]
    },
    {
     "name": "stderr",
     "output_type": "stream",
     "text": [
      "/Users/vishwaperera/Desktop/Projects/heart-disease/Heart-Disease/myenv/lib/python3.13/site-packages/sklearn/preprocessing/_encoders.py:246: UserWarning: Found unknown categories in columns [0, 1, 2, 3, 4, 5] during transform. These unknown categories will be encoded as all zeros\n",
      "  warnings.warn(\n",
      "/Users/vishwaperera/Desktop/Projects/heart-disease/Heart-Disease/myenv/lib/python3.13/site-packages/sklearn/preprocessing/_encoders.py:246: UserWarning: Found unknown categories in columns [0, 1, 2, 3, 4, 5] during transform. These unknown categories will be encoded as all zeros\n",
      "  warnings.warn(\n"
     ]
    }
   ],
   "source": [
    "# Simulate the API's input conversion (Male/Yes/No -> 1/0) to see its effect on the same pipeline\n",
    "def convert_yes_no(val):\n",
    "    if isinstance(val, str):\n",
    "        return 1 if val.lower() == 'yes' else 0\n",
    "    return val\n",
    "\n",
    "def convert_gender(val):\n",
    "    if isinstance(val, str):\n",
    "        return 1 if val.lower() == 'male' else 0\n",
    "    return val\n",
    "\n",
    "api_like = dict(sample)\n",
    "api_like['gender'] = convert_gender(api_like.get('gender'))\n",
    "for k in ['currentSmoker','BPMeds','prevalentStroke','prevalentHyp','diabetes']:\n",
    "    if k in api_like:\n",
    "        api_like[k] = convert_yes_no(api_like[k])\n",
    "\n",
    "df_api_like = pd.DataFrame([api_like])\n",
    "for col in expected_cols:\n",
    "    if col not in df_api_like.columns:\n",
    "        df_api_like[col] = np.nan\n",
    "df_api_like = df_api_like[expected_cols]\n",
    "\n",
    "pred_sim = int(model.predict(df_api_like)[0])\n",
    "proba_sim = float(model.predict_proba(df_api_like)[0, 1])\n",
    "# Apply website threshold for classification parity\n",
    "pred_sim_thr = int(proba_sim >= THRESH)\n",
    "print({'mode': 'simulated_api_conversion', 'prediction': pred_sim, 'prediction_at_thresh': pred_sim_thr, 'probability': proba_sim})"
   ]
  },
  {
   "cell_type": "code",
   "execution_count": 17,
   "id": "83c34845",
   "metadata": {},
   "outputs": [
    {
     "name": "stdout",
     "output_type": "stream",
     "text": [
      "{'api_status': 200, 'api_result': {'probability': 0.14, 'prediction': 0, 'threshold': 0.3, 'model_version': 'local-dev'}}\n"
     ]
    }
   ],
   "source": [
    "# Real API call (make sure the FastAPI server is running on API_BASE)\n",
    "api_payload = dict(sample)  # send raw strings; API will convert internally\n",
    "resp = None\n",
    "try:\n",
    "    resp = requests.post(API_PREDICT, json=api_payload, timeout=10)\n",
    "    if resp.status_code != 200:\n",
    "        print({'api_status': resp.status_code, 'detail': resp.text[:300]})\n",
    "        api_result = None\n",
    "    else:\n",
    "        api_result = resp.json()\n",
    "        print({'api_status': resp.status_code, 'api_result': api_result})\n",
    "except Exception as e:\n",
    "    print({'api_error': str(e)})\n",
    "    api_result = None"
   ]
  },
  {
   "cell_type": "code",
   "execution_count": 18,
   "id": "06b8f032",
   "metadata": {},
   "outputs": [
    {
     "name": "stdout",
     "output_type": "stream",
     "text": [
      "{\n",
      "  \"threshold_used\": 0.3,\n",
      "  \"direct_model_proba\": 0.14,\n",
      "  \"direct_model_pred\": 0,\n",
      "  \"direct_model_pred_at_thresh\": 0,\n",
      "  \"sim_api_conv_proba\": 0.1,\n",
      "  \"sim_api_conv_pred\": 0,\n",
      "  \"sim_api_conv_pred_at_thresh\": 0,\n",
      "  \"api_proba\": 0.14,\n",
      "  \"api_pred\": 0,\n",
      "  \"api_threshold\": 0.3\n",
      "}\n",
      "{'abs_diff_sim_vs_api': 0.04000000000000001, 'abs_diff_direct_vs_api': 0.0}\n",
      "\n",
      "Conclusion: Results and threshold match; model and API are consistent for this input.\n",
      "\n"
     ]
    }
   ],
   "source": [
    "# Compare results\n",
    "def pct(x):\n",
    "    return None if x is None else f'{x*100:.2f}%'\n",
    "\n",
    "summary = {\n",
    "    'threshold_used': THRESH,\n",
    "    'direct_model_proba': proba_dir,\n",
    "    'direct_model_pred': pred_dir,\n",
    "    'direct_model_pred_at_thresh': int(proba_dir >= THRESH),\n",
    "    'sim_api_conv_proba': proba_sim,\n",
    "    'sim_api_conv_pred': pred_sim,\n",
    "    'sim_api_conv_pred_at_thresh': int(proba_sim >= THRESH),\n",
    "    'api_proba': (None if api_result is None else api_result.get('probability')),\n",
    "    'api_pred': (None if api_result is None else api_result.get('prediction')),\n",
    "    'api_threshold': (None if api_result is None else api_result.get('threshold')),\n",
    "}\n",
    "print(json.dumps(summary, indent=2))\n",
    "\n",
    "# Heuristic explanation\n",
    "if api_result is not None:\n",
    "    diff_sim_vs_api = abs(proba_sim - api_result['probability'])\n",
    "    diff_direct_vs_api = abs(proba_dir - api_result['probability'])\n",
    "    print({'abs_diff_sim_vs_api': diff_sim_vs_api, 'abs_diff_direct_vs_api': diff_direct_vs_api})\n",
    "    if diff_direct_vs_api > 1e-6 and diff_sim_vs_api < 1e-4:\n",
    "        print('\\nConclusion: The API converts categorical values (Male/Yes/No) to 1/0 before the pipeline, which changes the encoding compared to direct model input with strings. This explains the probability difference.\\n')\n",
    "    elif diff_direct_vs_api < 1e-6 and (api_result.get('threshold') is None or abs(api_result['threshold'] - THRESH) < 1e-6):\n",
    "        print('\\nConclusion: Results and threshold match; model and API are consistent for this input.\\n')\n",
    "    else:\n",
    "        print('\\nConclusion: Differences remain; check model versions/paths and ensure both sides use the same threshold and preprocessing.\\n')\n",
    "else:\n",
    "    print('\\nAPI result unavailable; ensure the FastAPI server is running at', API_BASE)"
   ]
  },
  {
   "cell_type": "code",
   "execution_count": null,
   "id": "0018b29f",
   "metadata": {},
   "outputs": [],
   "source": []
  },
  {
   "cell_type": "markdown",
   "id": "f07619ed",
   "metadata": {},
   "source": [
    "## Example inputs for Low, Medium, and High risk patients\n",
    "\n",
    "Below are three illustrative input examples you can use to probe the model. They are not medical advice; the actual probability comes from the trained model and can vary with small changes.\n",
    "\n",
    "Notes\n",
    "- Categorical fields use the same strings as during training: `Male`/`Female`, `Yes`/`No`.\n",
    "- The website/notebook classifies using a threshold of 0.30.\n",
    "- All features shown match the model’s expected raw inputs.\n",
    "\n",
    "### Low risk (likely below threshold)\n",
    "```json\n",
    "{\n",
    "  \"gender\": \"Female\",\n",
    "  \"age\": 32,\n",
    "  \"currentSmoker\": \"No\",\n",
    "  \"cigsPerDay\": 0,\n",
    "  \"BPMeds\": \"No\",\n",
    "  \"prevalentStroke\": \"No\",\n",
    "  \"prevalentHyp\": \"No\",\n",
    "  \"diabetes\": \"No\",\n",
    "  \"totChol\": 175,\n",
    "  \"sysBP\": 112,\n",
    "  \"BMI\": 22.4,\n",
    "  \"heartRate\": 68,\n",
    "  \"glucose\": 88,\n",
    "  \"pulsePressure\": 38\n",
    "}\n",
    "```\n",
    "Why this is low: young age, normal BP and cholesterol, no smoking, no diabetes/hypertension.\n",
    "\n",
    "### Medium risk (around the threshold)\n",
    "```json\n",
    "{\n",
    "  \"gender\": \"Male\",\n",
    "  \"age\": 52,\n",
    "  \"currentSmoker\": \"Yes\",\n",
    "  \"cigsPerDay\": 5,\n",
    "  \"BPMeds\": \"No\",\n",
    "  \"prevalentStroke\": \"No\",\n",
    "  \"prevalentHyp\": \"Yes\",\n",
    "  \"diabetes\": \"No\",\n",
    "  \"totChol\": 215,\n",
    "  \"sysBP\": 135,\n",
    "  \"BMI\": 27.8,\n",
    "  \"heartRate\": 74,\n",
    "  \"glucose\": 102,\n",
    "  \"pulsePressure\": 48\n",
    "}\n",
    "```\n",
    "Why this is medium: middle age, light smoking, elevated BP, modestly high cholesterol; may land near ~0.3 depending on the model.\n",
    "\n",
    "### High risk (likely above threshold)\n",
    "```json\n",
    "{\n",
    "  \"gender\": \"Male\",\n",
    "  \"age\": 68,\n",
    "  \"currentSmoker\": \"Yes\",\n",
    "  \"cigsPerDay\": 20,\n",
    "  \"BPMeds\": \"Yes\",\n",
    "  \"prevalentStroke\": \"No\",\n",
    "  \"prevalentHyp\": \"Yes\",\n",
    "  \"diabetes\": \"Yes\",\n",
    "  \"totChol\": 265,\n",
    "  \"sysBP\": 168,\n",
    "  \"BMI\": 31.5,\n",
    "  \"heartRate\": 82,\n",
    "  \"glucose\": 165,\n",
    "  \"pulsePressure\": 60\n",
    "}\n",
    "```\n",
    "Why this is high: older age, active smoking, hypertension (on meds), diabetes, high systolic BP and cholesterol.\n",
    "\n",
    "Tip: To test one of these cases in this notebook, replace the `sample = { ... }` cell’s content with one of the JSON objects above and rerun the cells. If your FastAPI server is running, the comparison section will also show API vs model parity."
   ]
  }
 ],
 "metadata": {
  "kernelspec": {
   "display_name": "myenv",
   "language": "python",
   "name": "python3"
  },
  "language_info": {
   "codemirror_mode": {
    "name": "ipython",
    "version": 3
   },
   "file_extension": ".py",
   "mimetype": "text/x-python",
   "name": "python",
   "nbconvert_exporter": "python",
   "pygments_lexer": "ipython3",
   "version": "3.13.5"
  }
 },
 "nbformat": 4,
 "nbformat_minor": 5
}
