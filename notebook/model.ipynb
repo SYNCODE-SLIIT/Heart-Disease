{
 "cells": [
  {
   "cell_type": "code",
   "execution_count": null,
   "id": "f8f981b7",
   "metadata": {},
   "outputs": [],
   "source": []
  },
  {
   "cell_type": "code",
   "execution_count": null,
   "id": "6000794f",
   "metadata": {},
   "outputs": [],
   "source": [
    "# Compute class weights: more weight to the minority class (1)\n",
    "neg, pos = np.bincount(y_train_np.astype(int))\n",
    "total = neg + pos\n",
    "weight_for_0 = (1.0 / neg) * (total / 2.0)\n",
    "weight_for_1 = (1.0 / pos) * (total / 2.0)\n",
    "class_weight = {0: weight_for_0, 1: weight_for_1}\n",
    "class_weight"
   ]
  }
 ],
 "metadata": {
  "kernelspec": {
   "display_name": ".venv",
   "language": "python",
   "name": "python3"
  },
  "language_info": {
   "codemirror_mode": {
    "name": "ipython",
    "version": 3
   },
   "file_extension": ".py",
   "mimetype": "text/x-python",
   "name": "python",
   "nbconvert_exporter": "python",
   "pygments_lexer": "ipython3",
   "version": "3.13.3"
  }
 },
 "nbformat": 4,
 "nbformat_minor": 5
}
