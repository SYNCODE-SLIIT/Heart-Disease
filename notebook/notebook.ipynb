{
  "cells": [
    {
      "cell_type": "code",
      "execution_count": null,
      "metadata": {
        "id": "4HSw38tTQqqG"
      },
      "outputs": [
        {
          "name": "stdout",
          "output_type": "stream",
          "text": [
            "Collecting imbalanced-learn\n",
            "  Downloading imbalanced_learn-0.14.0-py3-none-any.whl.metadata (8.8 kB)\n",
            "Requirement already satisfied: numpy<3,>=1.25.2 in /Users/praise/Documents/GitHub/heart disease/Heart-Disease/.venv/lib/python3.13/site-packages (from imbalanced-learn) (2.3.3)\n",
            "Requirement already satisfied: scipy<2,>=1.11.4 in /Users/praise/Documents/GitHub/heart disease/Heart-Disease/.venv/lib/python3.13/site-packages (from imbalanced-learn) (1.16.2)\n",
            "Requirement already satisfied: scikit-learn<2,>=1.4.2 in /Users/praise/Documents/GitHub/heart disease/Heart-Disease/.venv/lib/python3.13/site-packages (from imbalanced-learn) (1.7.2)\n",
            "Requirement already satisfied: joblib<2,>=1.2.0 in /Users/praise/Documents/GitHub/heart disease/Heart-Disease/.venv/lib/python3.13/site-packages (from imbalanced-learn) (1.5.2)\n",
            "Requirement already satisfied: threadpoolctl<4,>=2.0.0 in /Users/praise/Documents/GitHub/heart disease/Heart-Disease/.venv/lib/python3.13/site-packages (from imbalanced-learn) (3.6.0)\n",
            "Downloading imbalanced_learn-0.14.0-py3-none-any.whl (239 kB)\n",
            "Installing collected packages: imbalanced-learn\n",
            "Successfully installed imbalanced-learn-0.14.0\n",
            "Note: you may need to restart the kernel to use updated packages.\n"
          ]
        }
      ],
      "source": [
        "import pandas as pd\n",
        "from sklearn.model_selection import train_test_split\n",
        "from sklearn.impute import SimpleImputer\n",
        "from sklearn.preprocessing import OneHotEncoder, OrdinalEncoder, StandardScaler\n",
        "from imblearn.over_sampling import SMOTE\n"
      ]
    },
    {
      "cell_type": "code",
      "execution_count": null,
      "metadata": {
        "colab": {
          "base_uri": "https://localhost:8080/",
          "height": 290
        },
        "id": "zYOKmK17vgr7",
        "outputId": "ab7ad42c-640c-44ec-9294-a090f17cd354"
      },
      "outputs": [
        {
          "data": {
            "text/html": [
              "<div>\n",
              "<style scoped>\n",
              "    .dataframe tbody tr th:only-of-type {\n",
              "        vertical-align: middle;\n",
              "    }\n",
              "\n",
              "    .dataframe tbody tr th {\n",
              "        vertical-align: top;\n",
              "    }\n",
              "\n",
              "    .dataframe thead th {\n",
              "        text-align: right;\n",
              "    }\n",
              "</style>\n",
              "<table border=\"1\" class=\"dataframe\">\n",
              "  <thead>\n",
              "    <tr style=\"text-align: right;\">\n",
              "      <th></th>\n",
              "      <th>Age</th>\n",
              "      <th>Gender</th>\n",
              "      <th>Blood Pressure</th>\n",
              "      <th>Cholesterol Level</th>\n",
              "      <th>Exercise Habits</th>\n",
              "      <th>Smoking</th>\n",
              "      <th>Family Heart Disease</th>\n",
              "      <th>Diabetes</th>\n",
              "      <th>BMI</th>\n",
              "      <th>High Blood Pressure</th>\n",
              "      <th>...</th>\n",
              "      <th>High LDL Cholesterol</th>\n",
              "      <th>Alcohol Consumption</th>\n",
              "      <th>Stress Level</th>\n",
              "      <th>Sleep Hours</th>\n",
              "      <th>Sugar Consumption</th>\n",
              "      <th>Triglyceride Level</th>\n",
              "      <th>Fasting Blood Sugar</th>\n",
              "      <th>CRP Level</th>\n",
              "      <th>Homocysteine Level</th>\n",
              "      <th>Heart Disease Status</th>\n",
              "    </tr>\n",
              "  </thead>\n",
              "  <tbody>\n",
              "    <tr>\n",
              "      <th>0</th>\n",
              "      <td>56.0</td>\n",
              "      <td>Male</td>\n",
              "      <td>153.0</td>\n",
              "      <td>155.0</td>\n",
              "      <td>High</td>\n",
              "      <td>Yes</td>\n",
              "      <td>Yes</td>\n",
              "      <td>No</td>\n",
              "      <td>24.991591</td>\n",
              "      <td>Yes</td>\n",
              "      <td>...</td>\n",
              "      <td>No</td>\n",
              "      <td>High</td>\n",
              "      <td>Medium</td>\n",
              "      <td>7.633228</td>\n",
              "      <td>Medium</td>\n",
              "      <td>342.0</td>\n",
              "      <td>NaN</td>\n",
              "      <td>12.969246</td>\n",
              "      <td>12.387250</td>\n",
              "      <td>No</td>\n",
              "    </tr>\n",
              "    <tr>\n",
              "      <th>1</th>\n",
              "      <td>69.0</td>\n",
              "      <td>Female</td>\n",
              "      <td>146.0</td>\n",
              "      <td>286.0</td>\n",
              "      <td>High</td>\n",
              "      <td>No</td>\n",
              "      <td>Yes</td>\n",
              "      <td>Yes</td>\n",
              "      <td>25.221799</td>\n",
              "      <td>No</td>\n",
              "      <td>...</td>\n",
              "      <td>No</td>\n",
              "      <td>Medium</td>\n",
              "      <td>High</td>\n",
              "      <td>8.744034</td>\n",
              "      <td>Medium</td>\n",
              "      <td>133.0</td>\n",
              "      <td>157.0</td>\n",
              "      <td>9.355389</td>\n",
              "      <td>19.298875</td>\n",
              "      <td>No</td>\n",
              "    </tr>\n",
              "    <tr>\n",
              "      <th>2</th>\n",
              "      <td>46.0</td>\n",
              "      <td>Male</td>\n",
              "      <td>126.0</td>\n",
              "      <td>216.0</td>\n",
              "      <td>Low</td>\n",
              "      <td>No</td>\n",
              "      <td>No</td>\n",
              "      <td>No</td>\n",
              "      <td>29.855447</td>\n",
              "      <td>No</td>\n",
              "      <td>...</td>\n",
              "      <td>Yes</td>\n",
              "      <td>Low</td>\n",
              "      <td>Low</td>\n",
              "      <td>4.440440</td>\n",
              "      <td>Low</td>\n",
              "      <td>393.0</td>\n",
              "      <td>92.0</td>\n",
              "      <td>12.709873</td>\n",
              "      <td>11.230926</td>\n",
              "      <td>No</td>\n",
              "    </tr>\n",
              "    <tr>\n",
              "      <th>3</th>\n",
              "      <td>32.0</td>\n",
              "      <td>Female</td>\n",
              "      <td>122.0</td>\n",
              "      <td>293.0</td>\n",
              "      <td>High</td>\n",
              "      <td>Yes</td>\n",
              "      <td>Yes</td>\n",
              "      <td>No</td>\n",
              "      <td>24.130477</td>\n",
              "      <td>Yes</td>\n",
              "      <td>...</td>\n",
              "      <td>Yes</td>\n",
              "      <td>Low</td>\n",
              "      <td>High</td>\n",
              "      <td>5.249405</td>\n",
              "      <td>High</td>\n",
              "      <td>293.0</td>\n",
              "      <td>94.0</td>\n",
              "      <td>12.509046</td>\n",
              "      <td>5.961958</td>\n",
              "      <td>No</td>\n",
              "    </tr>\n",
              "    <tr>\n",
              "      <th>4</th>\n",
              "      <td>60.0</td>\n",
              "      <td>Male</td>\n",
              "      <td>166.0</td>\n",
              "      <td>242.0</td>\n",
              "      <td>Low</td>\n",
              "      <td>Yes</td>\n",
              "      <td>Yes</td>\n",
              "      <td>Yes</td>\n",
              "      <td>20.486289</td>\n",
              "      <td>Yes</td>\n",
              "      <td>...</td>\n",
              "      <td>No</td>\n",
              "      <td>Low</td>\n",
              "      <td>High</td>\n",
              "      <td>7.030971</td>\n",
              "      <td>High</td>\n",
              "      <td>263.0</td>\n",
              "      <td>154.0</td>\n",
              "      <td>10.381259</td>\n",
              "      <td>8.153887</td>\n",
              "      <td>No</td>\n",
              "    </tr>\n",
              "  </tbody>\n",
              "</table>\n",
              "<p>5 rows × 21 columns</p>\n",
              "</div>"
            ],
            "text/plain": [
              "    Age  Gender  Blood Pressure  Cholesterol Level Exercise Habits Smoking  \\\n",
              "0  56.0    Male           153.0              155.0            High     Yes   \n",
              "1  69.0  Female           146.0              286.0            High      No   \n",
              "2  46.0    Male           126.0              216.0             Low      No   \n",
              "3  32.0  Female           122.0              293.0            High     Yes   \n",
              "4  60.0    Male           166.0              242.0             Low     Yes   \n",
              "\n",
              "  Family Heart Disease Diabetes        BMI High Blood Pressure  ...  \\\n",
              "0                  Yes       No  24.991591                 Yes  ...   \n",
              "1                  Yes      Yes  25.221799                  No  ...   \n",
              "2                   No       No  29.855447                  No  ...   \n",
              "3                  Yes       No  24.130477                 Yes  ...   \n",
              "4                  Yes      Yes  20.486289                 Yes  ...   \n",
              "\n",
              "  High LDL Cholesterol Alcohol Consumption Stress Level Sleep Hours  \\\n",
              "0                   No                High       Medium    7.633228   \n",
              "1                   No              Medium         High    8.744034   \n",
              "2                  Yes                 Low          Low    4.440440   \n",
              "3                  Yes                 Low         High    5.249405   \n",
              "4                   No                 Low         High    7.030971   \n",
              "\n",
              "   Sugar Consumption Triglyceride Level  Fasting Blood Sugar  CRP Level  \\\n",
              "0             Medium              342.0                  NaN  12.969246   \n",
              "1             Medium              133.0                157.0   9.355389   \n",
              "2                Low              393.0                 92.0  12.709873   \n",
              "3               High              293.0                 94.0  12.509046   \n",
              "4               High              263.0                154.0  10.381259   \n",
              "\n",
              "   Homocysteine Level  Heart Disease Status  \n",
              "0           12.387250                    No  \n",
              "1           19.298875                    No  \n",
              "2           11.230926                    No  \n",
              "3            5.961958                    No  \n",
              "4            8.153887                    No  \n",
              "\n",
              "[5 rows x 21 columns]"
            ]
          },
          "execution_count": 3,
          "metadata": {},
          "output_type": "execute_result"
        }
      ],
      "source": [
        "import pandas as pd\n",
        "path = '../data/heart_disease.csv'\n",
        "df = pd.read_csv(path)\n",
        "df.head()\n"
      ]
    },
    {
      "cell_type": "markdown",
      "metadata": {
        "id": "NZpqGTf9-QhU"
      },
      "source": [
        "Rows and columns"
      ]
    },
    {
      "cell_type": "code",
      "execution_count": 4,
      "metadata": {
        "colab": {
          "base_uri": "https://localhost:8080/"
        },
        "id": "-jTVPRezRdMs",
        "outputId": "0c67b8c9-dab5-49ff-a79a-d13326ebbcb8"
      },
      "outputs": [
        {
          "name": "stdout",
          "output_type": "stream",
          "text": [
            "Shape: (10000, 21)\n"
          ]
        }
      ],
      "source": [
        "\n",
        "print(\"Shape:\", df.shape)"
      ]
    },
    {
      "cell_type": "markdown",
      "metadata": {
        "id": "vVIE6WuO-VSz"
      },
      "source": [
        "Identify categorical and numerical data"
      ]
    },
    {
      "cell_type": "code",
      "execution_count": 5,
      "metadata": {
        "colab": {
          "base_uri": "https://localhost:8080/"
        },
        "id": "BISjSRbw-cMR",
        "outputId": "b8a32fce-3d27-4350-e905-d1cbf0b1d207"
      },
      "outputs": [
        {
          "name": "stdout",
          "output_type": "stream",
          "text": [
            "\n",
            "Data Types:\n",
            " Age                     float64\n",
            "Gender                   object\n",
            "Blood Pressure          float64\n",
            "Cholesterol Level       float64\n",
            "Exercise Habits          object\n",
            "Smoking                  object\n",
            "Family Heart Disease     object\n",
            "Diabetes                 object\n",
            "BMI                     float64\n",
            "High Blood Pressure      object\n",
            "Low HDL Cholesterol      object\n",
            "High LDL Cholesterol     object\n",
            "Alcohol Consumption      object\n",
            "Stress Level             object\n",
            "Sleep Hours             float64\n",
            "Sugar Consumption        object\n",
            "Triglyceride Level      float64\n",
            "Fasting Blood Sugar     float64\n",
            "CRP Level               float64\n",
            "Homocysteine Level      float64\n",
            "Heart Disease Status     object\n",
            "dtype: object\n"
          ]
        }
      ],
      "source": [
        "\n",
        "print(\"\\nData Types:\\n\", df.dtypes)"
      ]
    },
    {
      "cell_type": "markdown",
      "metadata": {
        "id": "yjj07UeM-bgm"
      },
      "source": [
        "Number of missing values in each column"
      ]
    },
    {
      "cell_type": "code",
      "execution_count": 45,
      "metadata": {
        "colab": {
          "base_uri": "https://localhost:8080/"
        },
        "id": "Xo2t9Jen_BpX",
        "outputId": "b42bc1f6-1a71-41c0-fefd-6ac64df39de0"
      },
      "outputs": [
        {
          "name": "stdout",
          "output_type": "stream",
          "text": [
            "\n",
            "Missing Values:\n",
            " Age                       29\n",
            "Gender                    19\n",
            "Blood Pressure            19\n",
            "Cholesterol Level         30\n",
            "Exercise Habits           25\n",
            "Smoking                   25\n",
            "Family Heart Disease      21\n",
            "Diabetes                  30\n",
            "BMI                       22\n",
            "High Blood Pressure       26\n",
            "Low HDL Cholesterol       25\n",
            "High LDL Cholesterol      26\n",
            "Alcohol Consumption     2586\n",
            "Stress Level              22\n",
            "Sleep Hours               25\n",
            "Sugar Consumption         30\n",
            "Triglyceride Level        26\n",
            "Fasting Blood Sugar       22\n",
            "CRP Level                 26\n",
            "Homocysteine Level        20\n",
            "Heart Disease Status       0\n",
            "dtype: int64\n"
          ]
        }
      ],
      "source": [
        "\n",
        "print(\"\\nMissing Values:\\n\", df.isnull().sum())"
      ]
    },
    {
      "cell_type": "markdown",
      "metadata": {
        "id": "oYEqB2ij-f0S"
      },
      "source": [
        "Unique values per column"
      ]
    },
    {
      "cell_type": "code",
      "execution_count": 46,
      "metadata": {
        "colab": {
          "base_uri": "https://localhost:8080/"
        },
        "id": "--_ZxUp-_PdV",
        "outputId": "d2b05bf8-bd53-443d-b5dd-0bad8e64c282"
      },
      "outputs": [
        {
          "name": "stdout",
          "output_type": "stream",
          "text": [
            "\n",
            "Unique values per column:\n",
            " Age                       63\n",
            "Gender                     2\n",
            "Blood Pressure            61\n",
            "Cholesterol Level        151\n",
            "Exercise Habits            3\n",
            "Smoking                    2\n",
            "Family Heart Disease       2\n",
            "Diabetes                   2\n",
            "BMI                     9978\n",
            "High Blood Pressure        2\n",
            "Low HDL Cholesterol        2\n",
            "High LDL Cholesterol       2\n",
            "Alcohol Consumption        3\n",
            "Stress Level               3\n",
            "Sleep Hours             9975\n",
            "Sugar Consumption          3\n",
            "Triglyceride Level       301\n",
            "Fasting Blood Sugar       81\n",
            "CRP Level               9974\n",
            "Homocysteine Level      9980\n",
            "Heart Disease Status       2\n",
            "dtype: int64\n"
          ]
        }
      ],
      "source": [
        "\n",
        "print(\"\\nUnique values per column:\\n\", df.nunique())"
      ]
    },
    {
      "cell_type": "markdown",
      "metadata": {
        "id": "C6XtdZ5bkWHn"
      },
      "source": [
        "How balanced the target variable"
      ]
    },
    {
      "cell_type": "code",
      "execution_count": 47,
      "metadata": {
        "colab": {
          "base_uri": "https://localhost:8080/"
        },
        "id": "_JR1VQox_yu8",
        "outputId": "f936515e-68be-49b1-ca2b-491c3feac572"
      },
      "outputs": [
        {
          "name": "stdout",
          "output_type": "stream",
          "text": [
            "\n",
            "Target Distribution:\n",
            " Heart Disease Status\n",
            "No     8000\n",
            "Yes    2000\n",
            "Name: count, dtype: int64\n"
          ]
        }
      ],
      "source": [
        "\n",
        "print(\"\\nTarget Distribution:\\n\", df['Heart Disease Status'].value_counts())"
      ]
    },
    {
      "cell_type": "markdown",
      "metadata": {
        "id": "8vJAjG0lkQFA"
      },
      "source": [
        "check duplicates"
      ]
    },
    {
      "cell_type": "code",
      "execution_count": 48,
      "metadata": {
        "colab": {
          "base_uri": "https://localhost:8080/"
        },
        "id": "qYZlBJpQAFRt",
        "outputId": "08605af2-ee12-4934-aa3f-296b89c7ab4e"
      },
      "outputs": [
        {
          "name": "stdout",
          "output_type": "stream",
          "text": [
            "Duplicates do not exist\n"
          ]
        }
      ],
      "source": [
        "\n",
        "duplicates = df.duplicated()\n",
        "if duplicates.any():\n",
        "    print (\"Duplicates exist\")\n",
        "else:\n",
        "    print(\"Duplicates do not exist\")"
      ]
    },
    {
      "cell_type": "markdown",
      "metadata": {
        "id": "oqrNiozGRv_f"
      },
      "source": [
        "Separate features and target"
      ]
    },
    {
      "cell_type": "code",
      "execution_count": 49,
      "metadata": {
        "id": "N9q8Yh8JQ9rR"
      },
      "outputs": [],
      "source": [
        "X = df.drop(\"Heart Disease Status\", axis=1)\n",
        "y = df[\"Heart Disease Status\"]"
      ]
    },
    {
      "cell_type": "markdown",
      "metadata": {
        "id": "4Jw04dLCR5Zu"
      },
      "source": [
        "Split dataset first (80% train, 20% test)"
      ]
    },
    {
      "cell_type": "code",
      "execution_count": 50,
      "metadata": {
        "id": "WHsJyIE1R4dn"
      },
      "outputs": [],
      "source": [
        "X_train, X_test, y_train, y_test = train_test_split(X, y, test_size=0.2, random_state=42, stratify=y)"
      ]
    },
    {
      "cell_type": "markdown",
      "metadata": {
        "id": "TUquOknfSDF_"
      },
      "source": [
        "Select numerical columns"
      ]
    },
    {
      "cell_type": "code",
      "execution_count": 51,
      "metadata": {
        "id": "Jd-9aRnlSWA0"
      },
      "outputs": [],
      "source": [
        "num_cols = X_train.select_dtypes(include=['float64', 'int64']).columns"
      ]
    },
    {
      "cell_type": "markdown",
      "metadata": {
        "id": "ssnQfBIASYr8"
      },
      "source": [
        "Create median imputer"
      ]
    },
    {
      "cell_type": "code",
      "execution_count": 52,
      "metadata": {
        "id": "28Mmh66USd7A"
      },
      "outputs": [],
      "source": [
        "median_imputer = SimpleImputer(strategy=\"median\")\n"
      ]
    },
    {
      "cell_type": "markdown",
      "metadata": {
        "id": "1T-3ZlaTSjvR"
      },
      "source": [
        "Fit only on training data"
      ]
    },
    {
      "cell_type": "code",
      "execution_count": 53,
      "metadata": {
        "id": "MWqwiTYBSexX"
      },
      "outputs": [],
      "source": [
        "X_train[num_cols] = median_imputer.fit_transform(X_train[num_cols])\n"
      ]
    },
    {
      "cell_type": "markdown",
      "metadata": {
        "id": "UtD_2RFkSorq"
      },
      "source": [
        "Apply same transformation to test data"
      ]
    },
    {
      "cell_type": "code",
      "execution_count": 54,
      "metadata": {
        "id": "TTZbiYLvSs22"
      },
      "outputs": [],
      "source": [
        "X_test[num_cols] = median_imputer.transform(X_test[num_cols])"
      ]
    },
    {
      "cell_type": "markdown",
      "metadata": {
        "id": "3Fq9XqSWSyWi"
      },
      "source": [
        "Check missing values in numerical columns"
      ]
    },
    {
      "cell_type": "code",
      "execution_count": 55,
      "metadata": {
        "colab": {
          "base_uri": "https://localhost:8080/"
        },
        "id": "FJ93_tCmTCb4",
        "outputId": "7f06a64f-d0ef-4976-9087-e1a4f7d226cb"
      },
      "outputs": [
        {
          "name": "stdout",
          "output_type": "stream",
          "text": [
            "Train missing:\n",
            " Age                    0\n",
            "Blood Pressure         0\n",
            "Cholesterol Level      0\n",
            "BMI                    0\n",
            "Sleep Hours            0\n",
            "Triglyceride Level     0\n",
            "Fasting Blood Sugar    0\n",
            "CRP Level              0\n",
            "Homocysteine Level     0\n",
            "dtype: int64\n",
            "Test missing:\n",
            " Age                    0\n",
            "Blood Pressure         0\n",
            "Cholesterol Level      0\n",
            "BMI                    0\n",
            "Sleep Hours            0\n",
            "Triglyceride Level     0\n",
            "Fasting Blood Sugar    0\n",
            "CRP Level              0\n",
            "Homocysteine Level     0\n",
            "dtype: int64\n"
          ]
        }
      ],
      "source": [
        "print(\"Train missing:\\n\", X_train[num_cols].isnull().sum())\n",
        "print(\"Test missing:\\n\", X_test[num_cols].isnull().sum())"
      ]
    },
    {
      "cell_type": "markdown",
      "metadata": {
        "id": "_HoorAPXg0Ok"
      },
      "source": [
        "Select categorical columns"
      ]
    },
    {
      "cell_type": "code",
      "execution_count": 56,
      "metadata": {
        "id": "0Q4bwCCRihTB"
      },
      "outputs": [],
      "source": [
        "cat_cols = X_train.select_dtypes(include=[\"object\"]).columns"
      ]
    },
    {
      "cell_type": "markdown",
      "metadata": {
        "id": "qpgfXGw5ikBP"
      },
      "source": [
        "Create most frequent imputer"
      ]
    },
    {
      "cell_type": "code",
      "execution_count": 57,
      "metadata": {
        "id": "E0SsvlWNiw_q"
      },
      "outputs": [],
      "source": [
        "cat_imputer = SimpleImputer(strategy=\"most_frequent\")"
      ]
    },
    {
      "cell_type": "markdown",
      "metadata": {
        "id": "ZhjG_GPai5Qf"
      },
      "source": [
        "Fit only on training data"
      ]
    },
    {
      "cell_type": "code",
      "execution_count": 58,
      "metadata": {
        "id": "jZy43cjmi7GV"
      },
      "outputs": [],
      "source": [
        "X_train[cat_cols] = cat_imputer.fit_transform(X_train[cat_cols])"
      ]
    },
    {
      "cell_type": "markdown",
      "metadata": {
        "id": "Eogxdno0jCzF"
      },
      "source": [
        "Apply same transformation to test data\n"
      ]
    },
    {
      "cell_type": "code",
      "execution_count": 59,
      "metadata": {
        "id": "xRNGVJxLjErx"
      },
      "outputs": [],
      "source": [
        "X_test[cat_cols] = cat_imputer.transform(X_test[cat_cols])"
      ]
    },
    {
      "cell_type": "markdown",
      "metadata": {
        "id": "Xi9MFa91jlf0"
      },
      "source": [
        "Check missing values"
      ]
    },
    {
      "cell_type": "code",
      "execution_count": 60,
      "metadata": {
        "colab": {
          "base_uri": "https://localhost:8080/"
        },
        "id": "yd2_TROzjRaB",
        "outputId": "34d4815a-7516-4d4b-e33e-1eda96dbdcba"
      },
      "outputs": [
        {
          "name": "stdout",
          "output_type": "stream",
          "text": [
            "Train missing:\n",
            " Age                     0\n",
            "Gender                  0\n",
            "Blood Pressure          0\n",
            "Cholesterol Level       0\n",
            "Exercise Habits         0\n",
            "Smoking                 0\n",
            "Family Heart Disease    0\n",
            "Diabetes                0\n",
            "BMI                     0\n",
            "High Blood Pressure     0\n",
            "Low HDL Cholesterol     0\n",
            "High LDL Cholesterol    0\n",
            "Alcohol Consumption     0\n",
            "Stress Level            0\n",
            "Sleep Hours             0\n",
            "Sugar Consumption       0\n",
            "Triglyceride Level      0\n",
            "Fasting Blood Sugar     0\n",
            "CRP Level               0\n",
            "Homocysteine Level      0\n",
            "dtype: int64\n",
            "Test missing:\n",
            " Age                     0\n",
            "Gender                  0\n",
            "Blood Pressure          0\n",
            "Cholesterol Level       0\n",
            "Exercise Habits         0\n",
            "Smoking                 0\n",
            "Family Heart Disease    0\n",
            "Diabetes                0\n",
            "BMI                     0\n",
            "High Blood Pressure     0\n",
            "Low HDL Cholesterol     0\n",
            "High LDL Cholesterol    0\n",
            "Alcohol Consumption     0\n",
            "Stress Level            0\n",
            "Sleep Hours             0\n",
            "Sugar Consumption       0\n",
            "Triglyceride Level      0\n",
            "Fasting Blood Sugar     0\n",
            "CRP Level               0\n",
            "Homocysteine Level      0\n",
            "dtype: int64\n"
          ]
        }
      ],
      "source": [
        "print(\"Train missing:\\n\", X_train.isnull().sum())\n",
        "print(\"Test missing:\\n\", X_test.isnull().sum())"
      ]
    },
    {
      "cell_type": "markdown",
      "metadata": {
        "id": "6Z7O_jb0yR00"
      },
      "source": [
        "ordinal columns"
      ]
    },
    {
      "cell_type": "code",
      "execution_count": 61,
      "metadata": {
        "id": "9ft-p4EiyViD"
      },
      "outputs": [],
      "source": [
        "ordinal_cols = [\"Stress Level\", \"Exercise Habits\", \"Alcohol Consumption\", \"Sugar Consumption\"]\n",
        "ordinal_mapping = [\n",
        "    [\"Low\", \"Medium\", \"High\"],   # Stress\n",
        "    [\"Low\", \"Medium\", \"High\"],   # Exercise\n",
        "    [\"Low\", \"Medium\", \"High\"],   # Alcohol\n",
        "    [\"Low\", \"Medium\", \"High\"],   # Sugar\n",
        "]"
      ]
    },
    {
      "cell_type": "markdown",
      "metadata": {
        "id": "lS_S_F5TybCj"
      },
      "source": [
        "Apply Ordinal Encoding for ordered features"
      ]
    },
    {
      "cell_type": "code",
      "execution_count": 62,
      "metadata": {
        "id": "IBOP9gW9ydou"
      },
      "outputs": [],
      "source": [
        "ord_encoder = OrdinalEncoder(categories=ordinal_mapping)\n",
        "X_train[ordinal_cols] = ord_encoder.fit_transform(X_train[ordinal_cols])\n",
        "X_test[ordinal_cols] = ord_encoder.transform(X_test[ordinal_cols])"
      ]
    },
    {
      "cell_type": "markdown",
      "metadata": {
        "id": "Yx26Og0TyjY5"
      },
      "source": [
        "Apply One-Hot Encoding for the rest of categorical columns"
      ]
    },
    {
      "cell_type": "code",
      "execution_count": 63,
      "metadata": {
        "id": "Zh8WjLATylsr"
      },
      "outputs": [],
      "source": [
        "cat_cols = [c for c in cat_cols if c not in ordinal_cols]\n",
        "X_train = pd.get_dummies(X_train, columns=cat_cols, drop_first=True)\n",
        "X_test = pd.get_dummies(X_test, columns=cat_cols, drop_first=True)"
      ]
    },
    {
      "cell_type": "markdown",
      "metadata": {
        "id": "TJPaoTg1yz45"
      },
      "source": [
        "Align columns between train & test"
      ]
    },
    {
      "cell_type": "code",
      "execution_count": 64,
      "metadata": {
        "id": "ivNd7MAcy4OT"
      },
      "outputs": [],
      "source": [
        "X_train, X_test = X_train.align(X_test, join=\"left\", axis=1, fill_value=0)"
      ]
    },
    {
      "cell_type": "markdown",
      "metadata": {
        "id": "wEGE3sVvzI4V"
      },
      "source": [
        "Feature scaling"
      ]
    },
    {
      "cell_type": "code",
      "execution_count": 65,
      "metadata": {
        "id": "pDBoOimYzISZ"
      },
      "outputs": [],
      "source": [
        "scaler = StandardScaler()\n",
        "X_train[num_cols] = scaler.fit_transform(X_train[num_cols])\n",
        "X_test[num_cols] = scaler.transform(X_test[num_cols])"
      ]
    },
    {
      "cell_type": "markdown",
      "metadata": {
        "id": "vEnI_fPhzhhp"
      },
      "source": [
        "Handle Class Imbalance"
      ]
    },
    {
      "cell_type": "code",
      "execution_count": 66,
      "metadata": {
        "id": "zixRrcyDzmvT"
      },
      "outputs": [],
      "source": [
        "smote = SMOTE(random_state=42)\n",
        "X_train_bal, y_train_bal = smote.fit_resample(X_train, y_train)"
      ]
    },
    {
      "cell_type": "code",
      "execution_count": 67,
      "metadata": {
        "colab": {
          "base_uri": "https://localhost:8080/"
        },
        "id": "A5MIAgxFzvb7",
        "outputId": "e973e6b2-315b-4289-e0b8-69525e24e28d"
      },
      "outputs": [
        {
          "name": "stdout",
          "output_type": "stream",
          "text": [
            "Before SMOTE: Heart Disease Status\n",
            "No     6400\n",
            "Yes    1600\n",
            "Name: count, dtype: int64\n",
            "After SMOTE: Heart Disease Status\n",
            "No     6400\n",
            "Yes    6400\n",
            "Name: count, dtype: int64\n"
          ]
        }
      ],
      "source": [
        "print(\"Before SMOTE:\", y_train.value_counts())\n",
        "print(\"After SMOTE:\", pd.Series(y_train_bal).value_counts())"
      ]
    }
  ],
  "metadata": {
    "colab": {
      "provenance": []
    },
    "kernelspec": {
      "display_name": ".venv",
      "language": "python",
      "name": "python3"
    },
    "language_info": {
      "codemirror_mode": {
        "name": "ipython",
        "version": 3
      },
      "file_extension": ".py",
      "mimetype": "text/x-python",
      "name": "python",
      "nbconvert_exporter": "python",
      "pygments_lexer": "ipython3",
      "version": "3.13.3"
    }
  },
  "nbformat": 4,
  "nbformat_minor": 0
}
